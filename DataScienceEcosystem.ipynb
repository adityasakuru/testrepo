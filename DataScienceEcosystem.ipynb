{
 "cells": [
  {
   "cell_type": "markdown",
   "id": "3e51a039-e78b-4285-ad43-2e1938635c94",
   "metadata": {},
   "source": [
    "#Data Science Tools and Ecosystem"
   ]
  },
  {
   "cell_type": "markdown",
   "id": "51a4da57-88a9-43e2-80d0-aaab024ee371",
   "metadata": {},
   "source": [
    "#In this notebook,Data Science Tools and Ecosystem are summarized"
   ]
  },
  {
   "cell_type": "markdown",
   "id": "3d431b15-0992-4213-974d-7efa7c591bbb",
   "metadata": {},
   "source": [
    "**Objectives:**\n",
    "- Some of the Data Science tools\n",
    "- Some of the commonly used libraries used\n",
    "- Some of popular languages that Data scientists use"
   ]
  },
  {
   "cell_type": "markdown",
   "id": "a0431d72-0e46-49ef-a454-13b291bd40f8",
   "metadata": {},
   "source": [
    "#Some of the popular languages that Data Scientists use are:\n",
    "1. Python \n",
    "2. Scalia\n",
    "3. Java "
   ]
  },
  {
   "cell_type": "markdown",
   "id": "fde9a3af-7378-43a7-ad03-d05d218c4fb2",
   "metadata": {},
   "source": [
    "#Some of the commonly used libraries used by Data Scientists include:\n",
    "1. TensorFlow\n",
    "2. NumPy\n",
    "3. SciPy\n",
    "4. Pandas"
   ]
  },
  {
   "cell_type": "markdown",
   "id": "6117b7a8-9e7b-4c5d-b07b-fadc4a1dcdd8",
   "metadata": {},
   "source": [
    "|Data Science Tools|\n",
    "-------------------\n",
    "|RStudio|\n",
    "|TensorFlow|\n",
    "|Apache Spark|"
   ]
  },
  {
   "cell_type": "markdown",
   "id": "9fa3dc70-101e-4074-8d97-f4b9292a61c7",
   "metadata": {},
   "source": [
    "### Below are a few examples of evaluating arithmetic expressions in Python"
   ]
  },
  {
   "cell_type": "code",
   "execution_count": 4,
   "id": "62d32be8-ed72-4bf7-9837-c0106a61b186",
   "metadata": {
    "tags": []
   },
   "outputs": [
    {
     "data": {
      "text/plain": [
       "17"
      ]
     },
     "execution_count": 4,
     "metadata": {},
     "output_type": "execute_result"
    }
   ],
   "source": [
    "(3*4)+5\n",
    "# This is simple arithmetic expression to multiply then add integers"
   ]
  },
  {
   "cell_type": "markdown",
   "id": "91fc168f-9288-4ca2-bd67-89e95ae322c5",
   "metadata": {
    "tags": []
   },
   "source": [
    "200/60\n",
    "# This will convert 200 minutes to hours by dividing by 60"
   ]
  },
  {
   "cell_type": "markdown",
   "id": "f27b40c7-05a1-4fd2-9110-d68ec7af417d",
   "metadata": {},
   "source": [
    "## Author\n",
    "# Aditya Sakuru"
   ]
  },
  {
   "cell_type": "code",
   "execution_count": null,
   "id": "1a47a118-aaee-4290-a979-a874db77d7c8",
   "metadata": {},
   "outputs": [],
   "source": []
  }
 ],
 "metadata": {
  "kernelspec": {
   "display_name": "Python",
   "language": "python",
   "name": "conda-env-python-py"
  },
  "language_info": {
   "codemirror_mode": {
    "name": "ipython",
    "version": 3
   },
   "file_extension": ".py",
   "mimetype": "text/x-python",
   "name": "python",
   "nbconvert_exporter": "python",
   "pygments_lexer": "ipython3",
   "version": "3.7.12"
  }
 },
 "nbformat": 4,
 "nbformat_minor": 5
}
